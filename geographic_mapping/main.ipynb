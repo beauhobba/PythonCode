{
 "cells": [
  {
   "cell_type": "code",
   "execution_count": null,
   "metadata": {},
   "outputs": [],
   "source": [
    "import pandas as pd\n",
    "import plotly.express as px"
   ]
  },
  {
   "cell_type": "code",
   "execution_count": null,
   "metadata": {},
   "outputs": [],
   "source": [
    "from keys import MAPBOX_ACCESS_TOKEN"
   ]
  },
  {
   "cell_type": "code",
   "execution_count": null,
   "metadata": {},
   "outputs": [],
   "source": [
    "australian_capital_cities = {\n",
    "    \"Canberra\": {\"latitude\": -35.2809, \"longitude\": 149.1300},\n",
    "    \"Sydney\": {\"latitude\": -33.8688, \"longitude\": 151.2093},\n",
    "    \"Melbourne\": {\"latitude\": -37.8136, \"longitude\": 144.9631},\n",
    "    \"Brisbane\": {\"latitude\": -27.4698, \"longitude\": 153.0251},\n",
    "    \"Adelaide\": {\"latitude\": -34.9285, \"longitude\": 138.6007},\n",
    "    \"Perth\": {\"latitude\": -31.9505, \"longitude\": 115.8605},\n",
    "    \"Hobart\": {\"latitude\": -42.8821, \"longitude\": 147.3272},\n",
    "    \"Darwin\": {\"latitude\": -12.4634, \"longitude\": 130.8456}\n",
    "}\n",
    "\n",
    "df = pd.DataFrame(australian_capital_cities).T.reset_index()\n",
    "df.rename(columns={\"index\": \"name\"}, inplace=True)\n",
    "df"
   ]
  },
  {
   "cell_type": "code",
   "execution_count": null,
   "metadata": {},
   "outputs": [],
   "source": [
    "# \"open-street-map\", \"carto-positron\", \"carto-darkmatter\", \"stamen-terrain\", \"stamen-toner\" or \"stamen-watercolor\" "
   ]
  },
  {
   "cell_type": "code",
   "execution_count": null,
   "metadata": {},
   "outputs": [],
   "source": [
    "# Map the regular map\n",
    "trace = px.scatter_mapbox(df, lat='latitude',lon='longitude', hover_name='name')\n",
    "trace.update_traces(marker=dict(size=50, color=\"red\"))\n",
    "\n",
    "trace.update_layout(\n",
    "    title={'text': f\"Capital Cities of Australia\",\n",
    "        'font': {'size': 24}},\n",
    "    mapbox=dict(\n",
    "        center=dict(lat=-23.15, lon=133.25),\n",
    "        accesstoken=MAPBOX_ACCESS_TOKEN,\n",
    "        zoom=3,\n",
    "        style=\"stamen-terrain\"\n",
    "    ),\n",
    "    autosize=True,\n",
    "    height=650,\n",
    "    margin=dict(l=0, r=0, t=40, b=0),\n",
    "    legend=dict(\n",
    "        bgcolor='rgba(255, 255, 255, 0.7)',\n",
    "        bordercolor='rgba(0, 0, 0, 0.2)',\n",
    "        borderwidth=1,\n",
    "        x=0,\n",
    "        y=1,\n",
    "        orientation='v'\n",
    "    ))\n",
    "\n",
    "\n",
    "trace.show()"
   ]
  }
 ],
 "metadata": {
  "kernelspec": {
   "display_name": "Python 3",
   "language": "python",
   "name": "python3"
  },
  "language_info": {
   "codemirror_mode": {
    "name": "ipython",
    "version": 3
   },
   "file_extension": ".py",
   "mimetype": "text/x-python",
   "name": "python",
   "nbconvert_exporter": "python",
   "pygments_lexer": "ipython3",
   "version": "3.9.0"
  },
  "orig_nbformat": 4
 },
 "nbformat": 4,
 "nbformat_minor": 2
}
